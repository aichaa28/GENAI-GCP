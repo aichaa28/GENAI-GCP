{
 "cells": [
  {
   "cell_type": "code",
   "execution_count": 8,
   "metadata": {},
   "outputs": [],
   "source": [
    "import pandas as pd  \n",
    "\n",
    "df=pd.read_csv('medquad.csv')\n"
   ]
  },
  {
   "cell_type": "code",
   "execution_count": 9,
   "metadata": {},
   "outputs": [
    {
     "data": {
      "text/plain": [
       "(16412, 4)"
      ]
     },
     "execution_count": 9,
     "metadata": {},
     "output_type": "execute_result"
    }
   ],
   "source": [
    "df.shape"
   ]
  },
  {
   "cell_type": "code",
   "execution_count": 6,
   "metadata": {},
   "outputs": [
    {
     "name": "stdout",
     "output_type": "stream",
     "text": [
      "Index(['question', 'answer', 'source', 'focus_area'], dtype='object')\n"
     ]
    }
   ],
   "source": [
    "print(df.columns)"
   ]
  },
  {
   "cell_type": "code",
   "execution_count": 7,
   "metadata": {},
   "outputs": [
    {
     "name": "stdout",
     "output_type": "stream",
     "text": [
      "question       0\n",
      "answer         5\n",
      "source         0\n",
      "focus_area    14\n",
      "dtype: int64\n"
     ]
    }
   ],
   "source": [
    "print(df.isnull().sum())"
   ]
  },
  {
   "cell_type": "code",
   "execution_count": 9,
   "metadata": {},
   "outputs": [
    {
     "data": {
      "text/html": [
       "<div>\n",
       "<style scoped>\n",
       "    .dataframe tbody tr th:only-of-type {\n",
       "        vertical-align: middle;\n",
       "    }\n",
       "\n",
       "    .dataframe tbody tr th {\n",
       "        vertical-align: top;\n",
       "    }\n",
       "\n",
       "    .dataframe thead th {\n",
       "        text-align: right;\n",
       "    }\n",
       "</style>\n",
       "<table border=\"1\" class=\"dataframe\">\n",
       "  <thead>\n",
       "    <tr style=\"text-align: right;\">\n",
       "      <th></th>\n",
       "      <th>question</th>\n",
       "      <th>answer</th>\n",
       "      <th>source</th>\n",
       "      <th>focus_area</th>\n",
       "    </tr>\n",
       "  </thead>\n",
       "  <tbody>\n",
       "    <tr>\n",
       "      <th>count</th>\n",
       "      <td>16412</td>\n",
       "      <td>16407</td>\n",
       "      <td>16412</td>\n",
       "      <td>16398</td>\n",
       "    </tr>\n",
       "    <tr>\n",
       "      <th>unique</th>\n",
       "      <td>14984</td>\n",
       "      <td>15817</td>\n",
       "      <td>9</td>\n",
       "      <td>5126</td>\n",
       "    </tr>\n",
       "    <tr>\n",
       "      <th>top</th>\n",
       "      <td>What causes Causes of Diabetes ?</td>\n",
       "      <td>This condition is inherited in an autosomal re...</td>\n",
       "      <td>GHR</td>\n",
       "      <td>Breast Cancer</td>\n",
       "    </tr>\n",
       "    <tr>\n",
       "      <th>freq</th>\n",
       "      <td>20</td>\n",
       "      <td>348</td>\n",
       "      <td>5430</td>\n",
       "      <td>53</td>\n",
       "    </tr>\n",
       "  </tbody>\n",
       "</table>\n",
       "</div>"
      ],
      "text/plain": [
       "                                question  \\\n",
       "count                              16412   \n",
       "unique                             14984   \n",
       "top     What causes Causes of Diabetes ?   \n",
       "freq                                  20   \n",
       "\n",
       "                                                   answer source  \\\n",
       "count                                               16407  16412   \n",
       "unique                                              15817      9   \n",
       "top     This condition is inherited in an autosomal re...    GHR   \n",
       "freq                                                  348   5430   \n",
       "\n",
       "           focus_area  \n",
       "count           16398  \n",
       "unique           5126  \n",
       "top     Breast Cancer  \n",
       "freq               53  "
      ]
     },
     "execution_count": 9,
     "metadata": {},
     "output_type": "execute_result"
    }
   ],
   "source": [
    "df.describe()"
   ]
  },
  {
   "cell_type": "code",
   "execution_count": 11,
   "metadata": {},
   "outputs": [
    {
     "name": "stdout",
     "output_type": "stream",
     "text": [
      "                                               question answer source  \\\n",
      "3591                     What is (are) HELLP syndrome ?    NaN   GARD   \n",
      "3840  What is (are) X-linked lymphoproliferative syn...    NaN   GARD   \n",
      "4200            What is (are) Familial HDL deficiency ?    NaN   GARD   \n",
      "4433  What is (are) Emery-Dreifuss muscular dystroph...    NaN   GARD   \n",
      "6693  What is (are) Emery-Dreifuss muscular dystroph...    NaN   GARD   \n",
      "\n",
      "                                            focus_area  \n",
      "3591                                    HELLP syndrome  \n",
      "3840             X-linked lymphoproliferative syndrome  \n",
      "4200                           Familial HDL deficiency  \n",
      "4433       Emery-Dreifuss muscular dystrophy, X-linked  \n",
      "6693  Emery-Dreifuss muscular dystrophy, dominant type  \n"
     ]
    }
   ],
   "source": [
    "df_missing_answer = df[df[\"answer\"].isnull()]\n",
    "print(df_missing_answer)\n"
   ]
  },
  {
   "cell_type": "code",
   "execution_count": 17,
   "metadata": {},
   "outputs": [
    {
     "name": "stdout",
     "output_type": "stream",
     "text": [
      "What is (are) HELLP syndrome ?\n",
      "What is (are) X-linked lymphoproliferative syndrome ?\n",
      "What is (are) Familial HDL deficiency ?\n",
      "What is (are) Emery-Dreifuss muscular dystrophy, X-linked ?\n",
      "What is (are) Emery-Dreifuss muscular dystrophy, dominant type ?\n"
     ]
    }
   ],
   "source": [
    "print(df.loc[3591, \"question\"])\n",
    "print(df.loc[3840, \"question\"])   \n",
    "print(df.loc[4200, \"question\"])\n",
    "print(df.loc[4433, \"question\"])  \n",
    "print(df.loc[6693, \"question\"])"
   ]
  },
  {
   "cell_type": "code",
   "execution_count": null,
   "metadata": {},
   "outputs": [
    {
     "name": "stdout",
     "output_type": "stream",
     "text": [
      "                                               question  \\\n",
      "3591                     What is (are) HELLP syndrome ?   \n",
      "3840  What is (are) X-linked lymphoproliferative syn...   \n",
      "4200            What is (are) Familial HDL deficiency ?   \n",
      "4433  What is (are) Emery-Dreifuss muscular dystroph...   \n",
      "6693  What is (are) Emery-Dreifuss muscular dystroph...   \n",
      "\n",
      "                                                 answer  \n",
      "3591  HELLP syndrome (Hemolysis, Elevated Liver enzy...  \n",
      "3840  X-linked lymphoproliferative syndrome is a rar...  \n",
      "4200  Familial HDL deficiency is a genetic disorder ...  \n",
      "4433  Emery-Dreifuss muscular dystrophy (EDMD) is a ...  \n",
      "6693  The dominant type of Emery-Dreifuss muscular d...  \n"
     ]
    }
   ],
   "source": [
    "import pandas as pd\n",
    "\n",
    "\n",
    "# Dictionary with the missing answers\n",
    "answers_dict = {\n",
    "    3591: \"HELLP syndrome (Hemolysis, Elevated Liver enzymes, Low Platelets) is a severe complication of preeclampsia, characterized by hemolysis, liver enzyme elevation, and low platelet count.\",\n",
    "    3840: \"X-linked lymphoproliferative syndrome is a rare immune disorder caused by mutations in the SH2D1A gene, leading to uncontrolled Epstein-Barr virus infections, immune dysfunction, and risk of lymphoma.\",\n",
    "    4200: \"Familial HDL deficiency is a genetic disorder where high-density lipoprotein (HDL) cholesterol is abnormally low, increasing the risk of premature cardiovascular disease.\",\n",
    "    4433: \"Emery-Dreifuss muscular dystrophy (EDMD) is a genetic disorder affecting skeletal and cardiac muscles, causing progressive weakness, contractures, and heart complications. The X-linked form is due to mutations in the EMD gene.\",\n",
    "    6693: \"The dominant type of Emery-Dreifuss muscular dystrophy is caused by mutations in the LMNA gene (lamin A/C) and follows an autosomal dominant inheritance pattern.\"\n",
    "}\n",
    "\n",
    "# Update the DataFrame with missing answers\n",
    "for index, answer in answers_dict.items():\n",
    "    df.at[index, \"answer\"] = answer\n",
    "\n",
    "# Save the updated dataset\n",
    "df.to_csv(\"dataset.csv\", index=False)\n"
   ]
  },
  {
   "cell_type": "code",
   "execution_count": 12,
   "metadata": {},
   "outputs": [
    {
     "name": "stdout",
     "output_type": "stream",
     "text": [
      "                                               question  \\\n",
      "7885                                   What is (are)  ?   \n",
      "7886          what is vancomycin-resistant enterococci?   \n",
      "7887  what types of infections does vancomycin-resis...   \n",
      "7888  are certain people at risk of getting vancomyc...   \n",
      "7889  what is the treatment for vancomycin-resistant...   \n",
      "7890  how can patients prevent the spread of vancomy...   \n",
      "8077                                   What is (are)  ?   \n",
      "8078                     what is staphylococcus aureus?   \n",
      "8079  how can the spread of visa and vrsa be prevented?   \n",
      "8080        what is cdc doing to address visa and vrsa?   \n",
      "8081                       how vaccines prevent disease   \n",
      "8082                             Who is at risk for ? ?   \n",
      "8083                                  How to prevent  ?   \n",
      "8084              what diseases are vaccine preventable   \n",
      "\n",
      "                                                 answer source focus_area  \n",
      "7885  On this Page General Information What is vanco...    CDC        NaN  \n",
      "7886  On this Page General Information What is vanco...    CDC        NaN  \n",
      "7887  On this Page General Information What is vanco...    CDC        NaN  \n",
      "7888  On this Page General Information What is vanco...    CDC        NaN  \n",
      "7889  On this Page General Information What is vanco...    CDC        NaN  \n",
      "7890  On this Page General Information What is vanco...    CDC        NaN  \n",
      "8077  On this Page General Information about VISA/VR...    CDC        NaN  \n",
      "8078  On this Page General Information about VISA/VR...    CDC        NaN  \n",
      "8079  On this Page General Information about VISA/VR...    CDC        NaN  \n",
      "8080  On this Page General Information about VISA/VR...    CDC        NaN  \n",
      "8081  Why Are Childhood Vaccines So Important? It is...    CDC        NaN  \n",
      "8082  Measles: Make Sure Your Child Is Protected wit...    CDC        NaN  \n",
      "8083  Vaccines and Preventable Diseases On this Page...    CDC        NaN  \n",
      "8084  List of Vaccine-Preventable Diseases The follo...    CDC        NaN  \n"
     ]
    }
   ],
   "source": [
    "df_missing_focus = df[df[\"focus_area\"].isnull()]\n",
    "print(df_missing_focus)\n"
   ]
  },
  {
   "cell_type": "code",
   "execution_count": 21,
   "metadata": {},
   "outputs": [],
   "source": [
    "\n",
    "# Remplacer les valeurs manquantes dans 'focus_area' par \"Pas disponible\"\n",
    "df[\"focus_area\"].fillna(\"Not available\", inplace=True)\n",
    "\n",
    "df.to_csv(\"dataset.csv\", index=False)\n"
   ]
  },
  {
   "cell_type": "code",
   "execution_count": 20,
   "metadata": {},
   "outputs": [
    {
     "name": "stdout",
     "output_type": "stream",
     "text": [
      "question      0\n",
      "answer        0\n",
      "source        0\n",
      "focus_area    0\n",
      "dtype: int64\n"
     ]
    }
   ],
   "source": [
    "\n",
    "print(df.isnull().sum())"
   ]
  },
  {
   "cell_type": "code",
   "execution_count": 3,
   "metadata": {},
   "outputs": [
    {
     "name": "stderr",
     "output_type": "stream",
     "text": [
      "C:\\Users\\Aycha\\AppData\\Local\\Temp\\ipykernel_3996\\1643761939.py:7: FutureWarning: DataFrame.applymap has been deprecated. Use DataFrame.map instead.\n",
      "  df = df.applymap(lambda x: x.encode('utf-8', 'ignore').decode('utf-8') if isinstance(x, str) else x)\n"
     ]
    },
    {
     "name": "stdout",
     "output_type": "stream",
     "text": [
      "✅ Fichier nettoyé et converti en UTF-8 avec succès !\n"
     ]
    }
   ],
   "source": [
    "import pandas as pd\n",
    "\n",
    "# Charger le fichier avec un encodage tolérant (latin1)\n",
    "df = pd.read_csv(\"C:/Users/Aycha/Desktop/dataset.csv\", encoding=\"latin1\", on_bad_lines='skip')\n",
    "\n",
    "# Remplacer les caractères invalides\n",
    "df = df.applymap(lambda x: x.encode('utf-8', 'ignore').decode('utf-8') if isinstance(x, str) else x)\n",
    "\n",
    "# Sauvegarder en UTF-8 propre\n",
    "df.to_csv(\"C:/Users/Aycha/Desktop/dataset_utf8.csv\", encoding=\"utf-8\", index=False)\n",
    "\n",
    "print(\"✅ Fichier nettoyé et converti en UTF-8 avec succès !\")\n"
   ]
  },
  {
   "cell_type": "code",
   "execution_count": 5,
   "metadata": {},
   "outputs": [],
   "source": [
    "file_path = \"C:/Users/Aycha/Desktop/dataset_utf8.csv\"\n",
    "\n",
    "# Lire le fichier ligne par ligne et identifier la ligne problématique\n",
    "with open(file_path, \"rb\") as f:\n",
    "    for i, line in enumerate(f, start=1):\n",
    "        try:\n",
    "            line.decode(\"utf-8\")  # Essayer de décoder en UTF-8\n",
    "        except UnicodeDecodeError as e:\n",
    "            print(f\"🚨 Erreur d'encodage à la ligne {i}: {e}\")\n",
    "            print(f\"🔍 Contenu problématique: {line}\")\n",
    "            break  # On arrête dès qu'on trouve la ligne fautive\n"
   ]
  }
 ],
 "metadata": {
  "kernelspec": {
   "display_name": "tp4_sol",
   "language": "python",
   "name": "python3"
  },
  "language_info": {
   "codemirror_mode": {
    "name": "ipython",
    "version": 3
   },
   "file_extension": ".py",
   "mimetype": "text/x-python",
   "name": "python",
   "nbconvert_exporter": "python",
   "pygments_lexer": "ipython3",
   "version": "3.12.5"
  }
 },
 "nbformat": 4,
 "nbformat_minor": 2
}
